{
 "cells": [
  {
   "attachments": {},
   "cell_type": "markdown",
   "metadata": {},
   "source": [
    "# Assignment 2 Part 2 - Convolutional Neural Network"
   ]
  },
  {
   "attachments": {},
   "cell_type": "markdown",
   "metadata": {},
   "source": [
    "## (3) Conclusion"
   ]
  },
  {
   "attachments": {},
   "cell_type": "markdown",
   "metadata": {},
   "source": [
    "### Final model"
   ]
  },
  {
   "cell_type": "code",
   "execution_count": null,
   "metadata": {},
   "outputs": [],
   "source": [
    "%run \"Assignment2-2-1.ipynb\" import DigitClassifier, train, eval"
   ]
  },
  {
   "cell_type": "code",
   "execution_count": null,
   "metadata": {},
   "outputs": [],
   "source": [
    "from torch.nn import AvgPool2d\n",
    "\n",
    "NUM_EPOCHS = 4\n",
    "LEARNING_RATE = 0.001\n",
    "KERNEL_SIZE = 5\n",
    "STRIDE = 1\n",
    "POOLING_STRATEGY = AvgPool2d(2)\n",
    "FEATURE_MAPS = 8\n",
    "ADDITIONAL_CONV_LAYER = True\n",
    "ADDITIONAL_FC_LAYER = False"
   ]
  },
  {
   "cell_type": "code",
   "execution_count": null,
   "metadata": {},
   "outputs": [],
   "source": [
    "print(f\"Final model\", end=\"\\n\\n\")\n",
    "model = DigitClassifier(kernel_size=KERNEL_SIZE, stride=STRIDE, pooling_strategy=POOLING_STRATEGY, feature_maps=FEATURE_MAPS, additional_conv=ADDITIONAL_CONV_LAYER, additional_fc=ADDITIONAL_FC_LAYER)\n",
    "train(model, learning_rate=LEARNING_RATE, num_epochs=NUM_EPOCHS)\n",
    "eval(model)"
   ]
  },
  {
   "attachments": {},
   "cell_type": "markdown",
   "metadata": {},
   "source": [
    "### Concluding remmarks"
   ]
  },
  {
   "attachments": {},
   "cell_type": "markdown",
   "metadata": {},
   "source": [
    "The final model classifies the test data with ~99% accuracy, which is a reasonably good result. The experiments have shown what works, and what doesn't. Oftentimes there is a trade-off between longer training times/higher required calculation power and a better model. The choice depends on the specific circumstance. Here I opted in favor of better predictive accuracy, as the calculations all take only a couple of minutes."
   ]
  }
 ],
 "metadata": {
  "kernelspec": {
   "display_name": "Python 3",
   "language": "python",
   "name": "python3"
  },
  "language_info": {
   "codemirror_mode": {
    "name": "ipython",
    "version": 3
   },
   "file_extension": ".py",
   "mimetype": "text/x-python",
   "name": "python",
   "nbconvert_exporter": "python",
   "pygments_lexer": "ipython3",
   "version": "3.11.2"
  },
  "orig_nbformat": 4
 },
 "nbformat": 4,
 "nbformat_minor": 2
}
