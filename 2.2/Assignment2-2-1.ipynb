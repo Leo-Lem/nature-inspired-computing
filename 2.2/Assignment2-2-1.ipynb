{
  "cells": [
    {
      "attachments": {},
      "cell_type": "markdown",
      "id": "9c8b3084",
      "metadata": {
        "id": "9c8b3084"
      },
      "source": [
        "# Assignment 2 Part 2 - Convolutional Neural Network\n"
      ]
    },
    {
      "attachments": {},
      "cell_type": "markdown",
      "id": "afd23178",
      "metadata": {},
      "source": [
        "## (1) Designing an adjustable CNN\n"
      ]
    },
    {
      "attachments": {},
      "cell_type": "markdown",
      "id": "36a661a5",
      "metadata": {
        "id": "36a661a5"
      },
      "source": [
        "### Model\n"
      ]
    },
    {
      "cell_type": "code",
      "execution_count": 8,
      "id": "7571960a",
      "metadata": {
        "id": "7571960a"
      },
      "outputs": [],
      "source": [
        "from math import floor\n",
        "import torch\n",
        "import torch.nn as nn\n",
        "\n",
        "\n",
        "class DigitClassifier(nn.Module):\n",
        "    def __init__(self,\n",
        "                 kernel_size: int = 5,\n",
        "                 stride: int = 1,\n",
        "                 pooling_strategy=nn.MaxPool2d(2),\n",
        "                 feature_maps: int = 16,\n",
        "                 additional_conv: bool = False,\n",
        "                 additional_fc: bool = False):\n",
        "        super(DigitClassifier, self).__init__()\n",
        "\n",
        "        self.kernel_size = kernel_size\n",
        "        self.stride = stride\n",
        "        self.pooling_strategy = pooling_strategy\n",
        "\n",
        "        self.act = nn.ReLU()\n",
        "        self.flat = nn.Flatten()\n",
        "\n",
        "        self.conv1 = self.get_conv(1, feature_maps)\n",
        "        self.conv2 = self.get_conv(feature_maps, 32)\n",
        "        if additional_conv:\n",
        "            self.conv3 = self.get_conv(32, 64)\n",
        "\n",
        "        fc_input_size = self.calculate_fc_input_size(additional_conv)\n",
        "\n",
        "        if additional_fc:\n",
        "            self.fc1 = nn.Sequential(nn.Linear(fc_input_size, 1024), self.act)\n",
        "            self.out = nn.Linear(1024, 10)\n",
        "        else:\n",
        "            self.out = nn.Linear(fc_input_size, 10)\n",
        "\n",
        "    def get_conv(self, in_channels: int, out_channels: int) -> nn.Sequential:\n",
        "        return nn.Sequential(\n",
        "            nn.Conv2d(\n",
        "                in_channels, out_channels, self.kernel_size, self.stride, 2),\n",
        "            self.act,\n",
        "            self.pooling_strategy\n",
        "        )\n",
        "\n",
        "    def calculate_fc_input_size(self, additional_conv: bool) -> int:\n",
        "        with torch.no_grad():\n",
        "            x = torch.zeros(1, 1, 28, 28)  # Assuming input size of 28x28\n",
        "            x = self.conv1(x)\n",
        "            x = self.conv2(x)\n",
        "            if hasattr(self, 'conv3'):\n",
        "                x = self.conv3(x)\n",
        "            x = self.flat(x)\n",
        "            fc_input_size = x.size(1)\n",
        "        return fc_input_size\n",
        "\n",
        "    def forward(self, x):\n",
        "        x = self.conv1(x)\n",
        "        x = self.conv2(x)\n",
        "        if (hasattr(self, 'conv3')):\n",
        "            x = self.conv3(x)\n",
        "        x = self.flat(x)\n",
        "        if (hasattr(self, 'fc1')):\n",
        "            x = self.fc1(x)\n",
        "        x = self.out(x)\n",
        "        return x\n"
      ]
    },
    {
      "attachments": {},
      "cell_type": "markdown",
      "id": "c6c54b52",
      "metadata": {
        "id": "c6c54b52"
      },
      "source": [
        "### Data\n"
      ]
    },
    {
      "cell_type": "code",
      "execution_count": 3,
      "id": "tZoosl2QKeCi",
      "metadata": {
        "id": "tZoosl2QKeCi"
      },
      "outputs": [],
      "source": [
        "DATA_URL = \"./data\" # colab: \"/content/2.2/data\"\n"
      ]
    },
    {
      "cell_type": "code",
      "execution_count": 4,
      "id": "ca98a0ab",
      "metadata": {
        "id": "ca98a0ab"
      },
      "outputs": [],
      "source": [
        "from typing import List, Tuple\n",
        "from numpy import array, ndarray\n",
        "from torch import Tensor\n",
        "from torch.utils.data import Dataset, DataLoader\n",
        "from torchvision.transforms.functional import to_tensor\n",
        "from csv import reader\n",
        "from matplotlib import pyplot as plt\n",
        "\n",
        "\n",
        "class Digit_Dataset(Dataset):\n",
        "    def __init__(self, train: bool):\n",
        "        super(Digit_Dataset, self).__init__()\n",
        "\n",
        "        self.train = train\n",
        "\n",
        "        filename = \"train\" if train else \"test\"\n",
        "        self.data = self._load_tensors(f\"{filename}x\")\n",
        "        self.labels = self._load_labels(f\"{filename}y\")\n",
        "\n",
        "    def __len__(self) -> int:\n",
        "        return len(self.data)\n",
        "\n",
        "    def __getitem__(self, index: int) -> Tuple[ndarray, int]:\n",
        "        return self.data[index], self.labels[index]\n",
        "\n",
        "    def _load_tensors(self, filename: str) -> List[Tensor]:\n",
        "        with open(f\"{DATA_URL}/{filename}.csv\", 'r') as csv_file:\n",
        "            tensors = []\n",
        "            for line in reader(csv_file):\n",
        "                data = array(line, dtype='int')\n",
        "                data = data.reshape((28, 28))\n",
        "                tensors.append(to_tensor(data).float())\n",
        "            return tensors\n",
        "\n",
        "    def _load_labels(self, filename: str) -> List[int]:\n",
        "        with open(f\"{DATA_URL}/{filename}.csv\", 'r') as csv_file:\n",
        "            labels = []\n",
        "            for line in reader(csv_file):\n",
        "                labels.append(int(line.index('1')))\n",
        "            return labels\n",
        "\n",
        "    def display(self, index: int):\n",
        "        img = self.data[index].reshape((28, 28))\n",
        "        plt.imshow(img, cmap='gray')\n",
        "        plt.show()\n",
        "\n",
        "    def loader(self, batch_size: int) -> DataLoader:\n",
        "        return DataLoader(self, batch_size=batch_size, shuffle=self.train)\n"
      ]
    },
    {
      "attachments": {},
      "cell_type": "markdown",
      "id": "18668212",
      "metadata": {
        "id": "18668212"
      },
      "source": [
        "### Training\n"
      ]
    },
    {
      "cell_type": "code",
      "execution_count": 5,
      "id": "373bf508",
      "metadata": {
        "id": "373bf508"
      },
      "outputs": [],
      "source": [
        "from torch import optim\n",
        "\n",
        "\n",
        "def train_model(model: DigitClassifier, data: DataLoader, num_epochs: int = 4, learning_rate: float = 0.001):\n",
        "    loss_fn = nn.CrossEntropyLoss()\n",
        "    optimizer = optim.Adam(model.parameters(), learning_rate)\n",
        "\n",
        "    model.train()\n",
        "\n",
        "    for epoch in range(num_epochs):\n",
        "        for i, (images, labels) in enumerate(data):\n",
        "            b_x, b_y = images, labels\n",
        "\n",
        "            loss = loss_fn(model(b_x), b_y)\n",
        "\n",
        "            optimizer.zero_grad()\n",
        "            loss.backward()\n",
        "            optimizer.step()\n",
        "\n",
        "            print(\n",
        "                f\"(Epoch {epoch+1} of {num_epochs} | Step {i+1} of {len(data)}) Loss: {loss.item():.4f}\", end='\\r')\n"
      ]
    },
    {
      "attachments": {},
      "cell_type": "markdown",
      "id": "d0e2c4a9",
      "metadata": {
        "id": "d0e2c4a9"
      },
      "source": [
        "### Evaluation\n"
      ]
    },
    {
      "cell_type": "code",
      "execution_count": 6,
      "id": "ad660697",
      "metadata": {
        "id": "ad660697"
      },
      "outputs": [],
      "source": [
        "import torch\n",
        "\n",
        "\n",
        "def eval_model(model: DigitClassifier, data: DataLoader) -> float:\n",
        "    correct = 0\n",
        "    total = 0\n",
        "\n",
        "    model.eval()\n",
        "\n",
        "    with torch.no_grad():\n",
        "        for images, labels in data:\n",
        "            outputs = model(images)\n",
        "            _, predicted = torch.max(outputs, dim=1)\n",
        "            correct += (predicted == labels).sum().item()\n",
        "            total += labels.size(0)\n",
        "\n",
        "    return correct / total\n"
      ]
    },
    {
      "attachments": {},
      "cell_type": "markdown",
      "id": "e298f100",
      "metadata": {
        "id": "e298f100"
      },
      "source": [
        "### Wrapping everything up\n"
      ]
    },
    {
      "cell_type": "code",
      "execution_count": 7,
      "id": "470c7e51",
      "metadata": {
        "id": "470c7e51"
      },
      "outputs": [],
      "source": [
        "print(\"Loading data…\")\n",
        "dataset = Digit_Dataset(True)\n",
        "test_dataset = Digit_Dataset(False)\n",
        "print(\"Finished loading data.\\n\")\n",
        "\n",
        "\n",
        "def train(model: DigitClassifier, num_epochs: int = 4, learning_rate: float = 0.001):\n",
        "    print(\"Training model…\")\n",
        "    train_model(model, dataset.loader(\n",
        "        100), num_epochs, learning_rate)\n",
        "    print(\"\\nFinished training.\\n\")\n",
        "\n",
        "\n",
        "def eval(model: DigitClassifier):\n",
        "    print(\"Evaluating model…\")\n",
        "    print(\n",
        "        f\"Training accuracy: {eval_model(model, dataset.loader(100))*100:.3f}%\")\n",
        "    print(\n",
        "        f\"Test accuracy: {eval_model(model, test_dataset.loader(500))*100:.3f}%\")\n"
      ]
    }
  ],
  "metadata": {
    "colab": {
      "collapsed_sections": [
        "36a661a5",
        "18668212"
      ],
      "provenance": []
    },
    "kernelspec": {
      "display_name": "Python 3",
      "language": "python",
      "name": "python3"
    },
    "language_info": {
      "codemirror_mode": {
        "name": "ipython",
        "version": 3
      },
      "file_extension": ".py",
      "mimetype": "text/x-python",
      "name": "python",
      "nbconvert_exporter": "python",
      "pygments_lexer": "ipython3",
      "version": "3.11.2"
    }
  },
  "nbformat": 4,
  "nbformat_minor": 5
}
