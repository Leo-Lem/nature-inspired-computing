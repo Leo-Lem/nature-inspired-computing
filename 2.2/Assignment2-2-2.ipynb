{
 "cells": [
  {
   "attachments": {},
   "cell_type": "markdown",
   "metadata": {},
   "source": [
    "# Assignment 2 Part 2 - Convolutional Neural Network"
   ]
  },
  {
   "attachments": {},
   "cell_type": "markdown",
   "metadata": {},
   "source": [
    "## (2) Experimenting"
   ]
  },
  {
   "cell_type": "code",
   "execution_count": null,
   "metadata": {},
   "outputs": [],
   "source": [
    "%run \"Assignment2-2-1.ipynb\" import DigitClassifier, train, eval"
   ]
  },
  {
   "attachments": {},
   "cell_type": "markdown",
   "metadata": {},
   "source": [
    "### (0) Getting a baseline"
   ]
  },
  {
   "cell_type": "code",
   "execution_count": null,
   "metadata": {},
   "outputs": [],
   "source": [
    "model = DigitClassifier()\n",
    "train(model)\n",
    "eval(model)"
   ]
  },
  {
   "attachments": {},
   "cell_type": "markdown",
   "metadata": {},
   "source": [
    "This baseline uses all the default parameters defined in the other file."
   ]
  },
  {
   "attachments": {},
   "cell_type": "markdown",
   "metadata": {},
   "source": [
    "### (1) Adjusting the hyperparameters such as learning rate, number of training epochs, convolutional kernel size, stride, pooling strategy etc."
   ]
  },
  {
   "attachments": {},
   "cell_type": "markdown",
   "metadata": {},
   "source": [
    "#### Epochs"
   ]
  },
  {
   "cell_type": "code",
   "execution_count": null,
   "metadata": {},
   "outputs": [],
   "source": [
    "for num_epochs in [2, 4, 6]:\n",
    "    print()\n",
    "    print(f\"Epochs: {num_epochs}\", end=\"\\n\\n\")\n",
    "    model = DigitClassifier()\n",
    "    train(model, num_epochs=num_epochs)\n",
    "    eval(model)"
   ]
  },
  {
   "attachments": {},
   "cell_type": "markdown",
   "metadata": {},
   "source": [
    "Increasing the number of epochs improves training accuracy, but eventually leads to overfitting issues. Furthermore, the performance impact is very high. I will stay with the baseline value of 4 epochs."
   ]
  },
  {
   "cell_type": "code",
   "execution_count": null,
   "metadata": {},
   "outputs": [],
   "source": [
    "NUM_EPOCHS = 4"
   ]
  },
  {
   "attachments": {},
   "cell_type": "markdown",
   "metadata": {},
   "source": [
    "#### Learning rate"
   ]
  },
  {
   "cell_type": "code",
   "execution_count": null,
   "metadata": {},
   "outputs": [],
   "source": [
    "for learning_rate in [0.1, 0.01, 0.001, 0.0001]:\n",
    "    print()\n",
    "    print(f\"Learning rate: {learning_rate}\", end=\"\\n\\n\")\n",
    "    model = DigitClassifier()\n",
    "    train(model, num_epochs=NUM_EPOCHS, learning_rate=learning_rate)\n",
    "    eval(model)\n"
   ]
  },
  {
   "attachments": {},
   "cell_type": "markdown",
   "metadata": {},
   "source": [
    "A lower learning rate seems to bring about better accuracy, so I will stick with the baseline learning rate of 0.001."
   ]
  },
  {
   "cell_type": "code",
   "execution_count": null,
   "metadata": {},
   "outputs": [],
   "source": [
    "LEARNING_RATE = 0.001"
   ]
  },
  {
   "attachments": {},
   "cell_type": "markdown",
   "metadata": {},
   "source": [
    "#### Kernel size"
   ]
  },
  {
   "cell_type": "code",
   "execution_count": null,
   "metadata": {},
   "outputs": [],
   "source": [
    "for kernel_size in [3, 5, 8]:\n",
    "    print()\n",
    "    print(f\"Kernel size: {kernel_size}\", end=\"\\n\\n\")\n",
    "    model = DigitClassifier(kernel_size=kernel_size)\n",
    "    train(model, learning_rate=LEARNING_RATE, num_epochs=NUM_EPOCHS)\n",
    "    eval(model)"
   ]
  },
  {
   "attachments": {},
   "cell_type": "markdown",
   "metadata": {},
   "source": [
    "A higher kernel size captures higher level information more reliably. This is generally what we would like here. For this problem, a kernel size of 5 seems best."
   ]
  },
  {
   "cell_type": "code",
   "execution_count": null,
   "metadata": {},
   "outputs": [],
   "source": [
    "KERNEL_SIZE = 5"
   ]
  },
  {
   "attachments": {},
   "cell_type": "markdown",
   "metadata": {},
   "source": [
    "#### Stride"
   ]
  },
  {
   "cell_type": "code",
   "execution_count": null,
   "metadata": {},
   "outputs": [],
   "source": [
    "for stride in [1, 2, 3]:\n",
    "    print()\n",
    "    print(f\"Stride: {stride}\", end=\"\\n\\n\")\n",
    "    model = DigitClassifier(kernel_size=KERNEL_SIZE, stride=stride)\n",
    "    train(model, learning_rate=LEARNING_RATE, num_epochs=NUM_EPOCHS)\n",
    "    eval(model)"
   ]
  },
  {
   "attachments": {},
   "cell_type": "markdown",
   "metadata": {},
   "source": [
    "A higher stride seems to lead to poorer accuracy. I will stay with a stride value of 1."
   ]
  },
  {
   "cell_type": "code",
   "execution_count": null,
   "metadata": {},
   "outputs": [],
   "source": [
    "STRIDE = 1"
   ]
  },
  {
   "attachments": {},
   "cell_type": "markdown",
   "metadata": {},
   "source": [
    "#### Pooling strategy"
   ]
  },
  {
   "cell_type": "code",
   "execution_count": null,
   "metadata": {},
   "outputs": [],
   "source": [
    "import torch.nn as nn\n",
    "\n",
    "for pooling_strategy in [nn.MaxPool2d(2), nn.AvgPool2d(2)]:\n",
    "    print()\n",
    "    print(f\"Pooling strategy: {pooling_strategy}\", end=\"\\n\\n\")\n",
    "    model = DigitClassifier(kernel_size=KERNEL_SIZE, stride=STRIDE, pooling_strategy=pooling_strategy)\n",
    "    train(model, learning_rate=LEARNING_RATE, num_epochs=NUM_EPOCHS)\n",
    "    eval(model)"
   ]
  },
  {
   "attachments": {},
   "cell_type": "markdown",
   "metadata": {},
   "source": [
    "Based on the experiment, it seems average pooling yields a slightly better result."
   ]
  },
  {
   "cell_type": "code",
   "execution_count": null,
   "metadata": {},
   "outputs": [],
   "source": [
    "POOLING_STRATEGY = nn.AvgPool2d(2)"
   ]
  },
  {
   "attachments": {},
   "cell_type": "markdown",
   "metadata": {},
   "source": [
    "### (2) Changing the number of feature maps"
   ]
  },
  {
   "cell_type": "code",
   "execution_count": null,
   "metadata": {},
   "outputs": [],
   "source": [
    "for feature_maps in [8, 16, 24]:\n",
    "    print()\n",
    "    print(f\"Number of feature maps: {feature_maps}\", end=\"\\n\\n\")\n",
    "    model = DigitClassifier(kernel_size=KERNEL_SIZE, stride=STRIDE, pooling_strategy=POOLING_STRATEGY, feature_maps=feature_maps)\n",
    "    train(model, learning_rate=LEARNING_RATE, num_epochs=NUM_EPOCHS)\n",
    "    eval(model)"
   ]
  },
  {
   "attachments": {},
   "cell_type": "markdown",
   "metadata": {},
   "source": [
    "Based on the experimental results, I will go with 8 for the number of feature maps."
   ]
  },
  {
   "cell_type": "code",
   "execution_count": null,
   "metadata": {},
   "outputs": [],
   "source": [
    "FEATURE_MAPS = 8"
   ]
  },
  {
   "attachments": {},
   "cell_type": "markdown",
   "metadata": {},
   "source": [
    "### (3) Including an additional convolutional layer"
   ]
  },
  {
   "cell_type": "code",
   "execution_count": null,
   "metadata": {},
   "outputs": [],
   "source": [
    "print(f\"Baseline\", end=\"\\n\\n\")\n",
    "model = DigitClassifier(kernel_size=KERNEL_SIZE, stride=STRIDE, pooling_strategy=POOLING_STRATEGY, feature_maps=FEATURE_MAPS)\n",
    "train(model, learning_rate=LEARNING_RATE, num_epochs=NUM_EPOCHS)\n",
    "eval(model)\n",
    "\n",
    "print()\n",
    "print(f\"Additional convolutional layer\", end=\"\\n\\n\")\n",
    "model = DigitClassifier(kernel_size=KERNEL_SIZE, stride=STRIDE, pooling_strategy=POOLING_STRATEGY, feature_maps=FEATURE_MAPS, additional_conv=True)\n",
    "train(model, learning_rate=LEARNING_RATE, num_epochs=NUM_EPOCHS)\n",
    "eval(model)"
   ]
  },
  {
   "attachments": {},
   "cell_type": "markdown",
   "metadata": {},
   "source": [
    "The performance impact of adding another convolutional layer is significant. But the predictive accuracy is increased, so I will go with another layer."
   ]
  },
  {
   "cell_type": "code",
   "execution_count": null,
   "metadata": {},
   "outputs": [],
   "source": [
    "ADDITIONAL_CONV_LAYER = True"
   ]
  },
  {
   "attachments": {},
   "cell_type": "markdown",
   "metadata": {},
   "source": [
    "### (4) Adding an extra fully connected layer"
   ]
  },
  {
   "cell_type": "code",
   "execution_count": null,
   "metadata": {},
   "outputs": [],
   "source": [
    "print(f\"Baseline\", end=\"\\n\\n\")\n",
    "model = DigitClassifier(kernel_size=KERNEL_SIZE, stride=STRIDE, pooling_strategy=POOLING_STRATEGY, feature_maps=FEATURE_MAPS, additional_conv=ADDITIONAL_CONV_LAYER)\n",
    "train(model, learning_rate=LEARNING_RATE, num_epochs=NUM_EPOCHS)\n",
    "eval(model)\n",
    "\n",
    "print()\n",
    "print(f\"Additional fully connected layer\", end=\"\\n\\n\")\n",
    "model = DigitClassifier(kernel_size=KERNEL_SIZE, stride=STRIDE, pooling_strategy=POOLING_STRATEGY, feature_maps=FEATURE_MAPS, additional_conv=ADDITIONAL_CONV_LAYER, additional_fc=True)\n",
    "train(model, learning_rate=LEARNING_RATE, num_epochs=NUM_EPOCHS)\n",
    "eval(model)"
   ]
  },
  {
   "attachments": {},
   "cell_type": "markdown",
   "metadata": {},
   "source": [
    "This does not seem to bring any noticeable benefit, so I will not add another fully connected layer."
   ]
  },
  {
   "cell_type": "code",
   "execution_count": null,
   "metadata": {},
   "outputs": [],
   "source": [
    "ADDITIONAL_FC_LAYER = False"
   ]
  }
 ],
 "metadata": {
  "kernelspec": {
   "display_name": "Python 3",
   "language": "python",
   "name": "python3"
  },
  "language_info": {
   "codemirror_mode": {
    "name": "ipython",
    "version": 3
   },
   "file_extension": ".py",
   "mimetype": "text/x-python",
   "name": "python",
   "nbconvert_exporter": "python",
   "pygments_lexer": "ipython3",
   "version": "3.11.2"
  },
  "orig_nbformat": 4
 },
 "nbformat": 4,
 "nbformat_minor": 2
}
