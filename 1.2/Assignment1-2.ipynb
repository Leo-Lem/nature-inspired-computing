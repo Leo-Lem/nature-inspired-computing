{
 "cells": [
  {
   "attachments": {},
   "cell_type": "markdown",
   "metadata": {},
   "source": [
    "# Assignment 1 Part 2 - Ant Colony Optimization"
   ]
  },
  {
   "attachments": {},
   "cell_type": "markdown",
   "metadata": {},
   "source": [
    "**Note**: The following assumes that the shortest path between two cities is their Euclidian distance."
   ]
  },
  {
   "attachments": {},
   "cell_type": "markdown",
   "metadata": {},
   "source": [
    "## (0) Setting up an ACO algorithm"
   ]
  },
  {
   "attachments": {},
   "cell_type": "markdown",
   "metadata": {},
   "source": [
    "### Parameters\n",
    "\n",
    "I decided to go with simple parameters for these experiments.\n",
    "\n",
    "* _coordinates_ - Obviously we'll need those.\n",
    "* _iteration\\_count_ - Always good to keep the number of performed iterations adjustable.\n",
    "* _ant\\_count_ - The number of ants that will be used in the algorithm.\n",
    "* _heuristic\\_strength_ - The relative strength of the heuristic value (inverse distance) against the pheromone value.\n",
    "* _evaporation\\_rate_ - The rate at which the pheromone decays.  \n",
    "\n",
    "For convenient evaluation I added a print method."
   ]
  },
  {
   "cell_type": "code",
   "execution_count": 117,
   "metadata": {},
   "outputs": [],
   "source": [
    "from numpy import ndarray\n",
    "\n",
    "class Parameters:\n",
    "  def __init__(self, coordinates: ndarray, iteration_count: int, ant_count: int, heuristic_strength: float, evaporation_rate: float):\n",
    "    assert iteration_count >= 0, \"Invalid number of iterations\"\n",
    "    assert ant_count >= 0, \"Invalid number of ants\"\n",
    "    assert 0 <= heuristic_strength <= 1, \"Invalid heuristic strength\"\n",
    "    assert 0 <= evaporation_rate <= 1, \"Invalid pheromone evaporation rate\"\n",
    "\n",
    "    self.coordinates: ndarray = coordinates\n",
    "    self.iteration_count: int = iteration_count\n",
    "    self.ant_count: int = ant_count\n",
    "    self.heuristic_strength: float = heuristic_strength\n",
    "    self.evaporation_rate: float = evaporation_rate\n",
    "\n",
    "  def print(self):\n",
    "    print(\"PARAMETERS\")\n",
    "    print(f\"Iterations: {self.iteration_count}\")\n",
    "    print(f\"Ant count: {self.ant_count}\")\n",
    "    print(f\"Heuristic strength: {self.heuristic_strength}\")\n",
    "    print(f\"Evaporation rate: {self.evaporation_rate}\")\n",
    "    print(\"Coordinates: \", end=\"\")\n",
    "    for i in range(min(5, len(self.coordinates))):\n",
    "      print(f\"({self.coordinates[i][0]}|{self.coordinates[i][1]})\", end=\"\")\n",
    "      print(\", \", end=\"\") if i < min(4, len(self.coordinates) - 1) else print(\", …\")"
   ]
  },
  {
   "attachments": {},
   "cell_type": "markdown",
   "metadata": {},
   "source": [
    "### Measurements\n",
    "\n",
    "For measuring the algorithm performance, I added a few measurements compared to the last assignment:\n",
    "\n",
    "* _time_ - The execution time, this one I already used for the GA.\n",
    "* _avg_ - The average shortest path, this one I used for the GA as well.\n",
    "* _std_ - The standard deviation of the shortest path. This is a new one. Should help in determining the volatility of determined solutions.\n",
    "* _min_ - The minimum shortest path (the best value). This one I also used in the GA.\n",
    "* _max_ - The maximum shortest path (the worst value). This one is new also. Should give a better understanding of the range of solutions.\n",
    "\n",
    "For convenient evaluation I added a print experiment method for printing any number of measurements."
   ]
  },
  {
   "cell_type": "code",
   "execution_count": 118,
   "metadata": {},
   "outputs": [],
   "source": [
    "from typing import List, Self\n",
    "\n",
    "class Measurements:\n",
    "  def __init__(self, time: float, avg: float, std: float, min: float, max: float):\n",
    "    self.time: float = time\n",
    "    self.avg: float = avg\n",
    "    self.std: float = std\n",
    "    self.min: float = min\n",
    "    self.max: float = max\n",
    "\n",
    "  @staticmethod\n",
    "  def print_experiment(title: str, values: List[int], measurements: List[Self], col_width: int = 12):\n",
    "    headers = ['Experiment', title, 'Time', 'Avg', 'Std', 'Min', 'Max']\n",
    "    print(' '.join(f'{h:{col_width}}' for h in headers))\n",
    "    for i, (value, measurement) in enumerate(zip(values, measurements), start=1):\n",
    "      row = [i, f'{value:{col_width}.2f}', f'{measurement.time:{col_width}.2f}',\n",
    "              f'{measurement.avg:{col_width}.2f}', f'{measurement.std:{col_width}.2f}',\n",
    "              f'{measurement.min:{col_width}.2f}', f'{measurement.max:{col_width}.2f}']\n",
    "      print(' '.join(str(cell).ljust(col_width) for cell in row))"
   ]
  },
  {
   "attachments": {},
   "cell_type": "markdown",
   "metadata": {},
   "source": [
    "### The algorithm\n",
    "\n",
    "This time, I chose to go with just executing the algorithm after initialization. The property _is\\_finished_ makes it possible to wait for the optimization to complete.\n",
    "\n",
    "This implementation handles most everything from calculating the distances, performing the actual optimization and providing the measurements."
   ]
  },
  {
   "cell_type": "code",
   "execution_count": 119,
   "metadata": {},
   "outputs": [],
   "source": [
    "from math import sqrt\n",
    "import time\n",
    "from typing import List, Optional\n",
    "import numpy as np;\n",
    "\n",
    "class ACOAlgorithm:\n",
    "  def __init__(self, parameters: Parameters):\n",
    "    self.parameters: Parameters = parameters\n",
    "    self.distances: Parameters = self.calculate_distance_matrix(parameters.coordinates)\n",
    "\n",
    "    self.pheromones: ndarray = np.ones_like(self.distances) / len(parameters.coordinates)\n",
    "    self.shortest_path: Optional[ndarray] = None\n",
    "    self.measurements: Optional[Measurements] = None\n",
    "\n",
    "    self.optimize()\n",
    "\n",
    "  @property\n",
    "  def is_finished(self):\n",
    "    return self.measurements is not None\n",
    "\n",
    "  def calculate_distance_matrix(self, city_coordinates: ndarray) -> ndarray:\n",
    "    city_count = city_coordinates.shape[0]\n",
    "    distance_matrix = np.zeros((city_count, city_count))\n",
    "\n",
    "    for i in range(city_count):\n",
    "      for j in range(city_count):\n",
    "        if i != j:\n",
    "          dx = city_coordinates[i][0] - city_coordinates[j][0]\n",
    "          dy = city_coordinates[i][1] - city_coordinates[j][1]\n",
    "          distance_matrix[i][j] = sqrt(dx*dx + dy*dy)\n",
    "\n",
    "    return distance_matrix\n",
    "\n",
    "  def optimize(self) -> None:\n",
    "    start_time = time.time()\n",
    "    shortest_path_lengths = []\n",
    "\n",
    "    for iteration in range(self.parameters.iteration_count):\n",
    "      paths = self.find_paths()\n",
    "      self.update_pheromones(paths)\n",
    "      self.update_shortest_path(paths)\n",
    "      if self.shortest_path is not None:\n",
    "        shortest_path_lengths.append(self.calculate_path_length(self.shortest_path))\n",
    "\n",
    "    end_time = time.time()\n",
    "\n",
    "    self.measurements = Measurements(\n",
    "        time=end_time - start_time,\n",
    "        avg=np.mean(shortest_path_lengths),\n",
    "        std=np.std(shortest_path_lengths),\n",
    "        min=np.min(shortest_path_lengths),\n",
    "        max=np.max(shortest_path_lengths),\n",
    "    )\n",
    " \n",
    "  def find_paths(self) -> List[ndarray]:\n",
    "    return [self.find_path(ant) for ant in range(self.parameters.ant_count)]\n",
    "  \n",
    "  def update_pheromones(self, paths: List[ndarray]):\n",
    "    self.pheromones *= (1 - self.parameters.evaporation_rate)\n",
    "    for path in paths:\n",
    "      path_length = self.calculate_path_length(path)\n",
    "      for i in range(len(path)):\n",
    "        from_node, to_node = path[i], path[(i+1) % len(path)]\n",
    "        pheromone = 1.0 / path_length if path_length != 0 else 0\n",
    "        self.pheromones[from_node, to_node] += pheromone\n",
    "        self.pheromones[to_node, from_node] += pheromone\n",
    "\n",
    "  def update_shortest_path(self, paths: List[ndarray]):\n",
    "    path_lengths = [self.calculate_path_length(path) for path in paths]\n",
    "    shortest_path_index = np.argmin(path_lengths)\n",
    "    if self.shortest_path is None or path_lengths[shortest_path_index] < self.calculate_path_length(self.shortest_path):\n",
    "      self.shortest_path = paths[shortest_path_index] \n",
    "\n",
    "  def find_path(self, ant_index: int) -> ndarray:\n",
    "    num_cities = len(self.parameters.coordinates)\n",
    "    path = []\n",
    "    visited = np.zeros(num_cities, dtype=bool)\n",
    "\n",
    "    for i in range(num_cities):\n",
    "      city = ant_index % num_cities if i == 0 else self.choose_next_city(path[-1], visited)\n",
    "      path.append(city)\n",
    "      visited[city] = True\n",
    "\n",
    "    return np.array(path)\n",
    "\n",
    "  def choose_next_city(self, current_city: int, visited: ndarray) -> int:\n",
    "    probabilities = self.calculate_probabilities(current_city, visited)\n",
    "    next_city_index = np.searchsorted(np.cumsum(probabilities), np.random.rand())\n",
    "    return next_city_index if next_city_index < len(probabilities) else np.argmax(probabilities)\n",
    "  \n",
    "  def calculate_probabilities(self, current_city: int, visited: ndarray) -> ndarray:\n",
    "    num_cities = len(self.parameters.coordinates)\n",
    "    probabilities = np.zeros(num_cities)\n",
    "    beta = self.parameters.heuristic_strength\n",
    "    for i in range(num_cities):\n",
    "      probabilities[i] = 0.0 if visited[i] else (self.pheromones[current_city][i] ** (1-beta)) * ((1.0 / max(self.distances[current_city][i], 1e-12)) ** beta)\n",
    "    return probabilities / probabilities.sum() if probabilities.sum() != 0 else np.ones(num_cities) / num_cities\n",
    "  \n",
    "  def calculate_path_length(self, path: ndarray) -> float:\n",
    "    return sum(self.distances[path[i], path[(i+1) % len(path)]] for i in range(len(path)))"
   ]
  },
  {
   "attachments": {},
   "cell_type": "markdown",
   "metadata": {},
   "source": [
    "### Getting a baseline\n",
    "\n",
    "Below I created a first baseline experiment. I define some baseline parameters which will be adjusted during the experiments. The execution is very simple: Just wait for the algorithm to complete and print relevant information."
   ]
  },
  {
   "cell_type": "code",
   "execution_count": 120,
   "metadata": {},
   "outputs": [
    {
     "name": "stdout",
     "output_type": "stream",
     "text": [
      "PARAMETERS\n",
      "Iterations: 10\n",
      "Ant count: 10\n",
      "Heuristic strength: 0.5\n",
      "Evaporation rate: 0.5\n",
      "Coordinates: (0.08792|0.114808), (0.886453|0.438732), (0.710248|0.321491), (0.248268|1.306361), (0.336466|0.449712), …\n",
      "\n",
      "Experiment   Baseline     Time         Avg          Std          Min          Max         \n",
      "1                    0.00         1.29        78.32         7.39        67.78        90.08\n",
      "2                    0.00         1.28        78.81         7.32        68.69        90.82\n",
      "3                    0.00         1.28        77.70         7.09        68.22        88.14\n",
      "4                    0.00         1.28        79.56         7.32        68.38        90.90\n",
      "5                    0.00         1.28        78.21         8.05        68.05        89.73\n",
      "6                    0.00         1.28        80.30         7.44        69.35        92.02\n",
      "7                    0.00         1.28        78.89         7.29        70.16        91.22\n",
      "8                    0.00         1.28        77.65         7.88        67.40        91.50\n",
      "9                    0.00         1.27        78.18         6.72        69.27        87.18\n",
      "10                   0.00         1.27        78.25         7.47        68.13        88.32\n"
     ]
    }
   ],
   "source": [
    "from copy import deepcopy\n",
    "from time import sleep\n",
    "from numpy import loadtxt\n",
    "\n",
    "baseline_params = Parameters(\n",
    "  loadtxt(\"d200-41.tsp\", dtype=float).reshape(-1, 2), \n",
    "  iteration_count=10,\n",
    "  ant_count=10,\n",
    "  heuristic_strength=0.5,\n",
    "  evaporation_rate=0.5\n",
    ")\n",
    "\n",
    "experiments = [0.0 for i in range(10)]\n",
    "all_measurements = []\n",
    "\n",
    "for evaporation_rate in experiments:\n",
    "  aco = ACOAlgorithm(baseline_params)\n",
    "  while not aco.is_finished: sleep(0.1)\n",
    "  all_measurements.append(aco.measurements)\n",
    "\n",
    "baseline_params.print()\n",
    "print()\n",
    "Measurements.print_experiment(\"Baseline\", experiments, all_measurements)\n",
    "\n",
    "# declare final params which will be adjusted in the experiments\n",
    "final_params = deepcopy(baseline_params)"
   ]
  },
  {
   "attachments": {},
   "cell_type": "markdown",
   "metadata": {},
   "source": [
    "As can be seen on average it takes about 1.3 seconds to complete a run. Average distance is at about 78.5 with a standard deviation of about 7."
   ]
  },
  {
   "attachments": {},
   "cell_type": "markdown",
   "metadata": {},
   "source": [
    "## (1) What are the effects of the heuristic strength on the quality of solutions obtained from ACO?"
   ]
  },
  {
   "cell_type": "code",
   "execution_count": 121,
   "metadata": {},
   "outputs": [
    {
     "name": "stdout",
     "output_type": "stream",
     "text": [
      "PARAMETERS\n",
      "Iterations: 10\n",
      "Ant count: 10\n",
      "Heuristic strength: 1.0\n",
      "Evaporation rate: 0.5\n",
      "Coordinates: (0.08792|0.114808), (0.886453|0.438732), (0.710248|0.321491), (0.248268|1.306361), (0.336466|0.449712), …\n",
      "\n",
      "Experiment   Heuristic Strength Time         Avg          Std          Min          Max         \n",
      "1                    0.00         1.26       100.37         1.03        98.02       102.01\n",
      "2                    0.10         1.28        96.85         2.60        92.92       102.60\n",
      "3                    0.20         1.28        92.24         4.19        86.95        98.30\n",
      "4                    0.30         1.28        86.20         5.07        78.66        92.57\n",
      "5                    0.40         1.28        82.06         7.08        71.62        90.56\n",
      "6                    0.50         1.28        79.03         7.81        66.60        89.06\n",
      "7                    0.60         1.28        76.12         7.37        65.42        86.76\n",
      "8                    0.70         1.28        73.06         6.73        64.27        82.78\n",
      "9                    0.80         1.27        70.54         2.02        65.13        71.68\n",
      "10                   0.90         1.27        70.83         2.23        68.59        76.55\n",
      "11                   1.00         1.25        72.82         1.74        71.41        75.40\n"
     ]
    }
   ],
   "source": [
    "heuristic_strength_params = deepcopy(baseline_params)\n",
    "\n",
    "experiments = [x/10 for x in range(11)]\n",
    "all_measurements = []\n",
    "\n",
    "for heuristic_strength in experiments:\n",
    "  heuristic_strength_params.heuristic_strength = heuristic_strength\n",
    "  aco = ACOAlgorithm(heuristic_strength_params)\n",
    "  while not aco.is_finished: sleep(0.1)\n",
    "  all_measurements.append(aco.measurements)\n",
    "\n",
    "heuristic_strength_params.print()\n",
    "print()\n",
    "Measurements.print_experiment(\"Heuristic Strength\", experiments, all_measurements)"
   ]
  },
  {
   "attachments": {},
   "cell_type": "markdown",
   "metadata": {},
   "source": [
    "The experimental result indicate that a higher heuristic strength leads to better results.\n",
    "\n",
    "* execution time - slight increase in median values.\n",
    "* average - seems to decrease with increasing heuristic strength but with diminishing intensity.\n",
    "* standard deviation - largest at about 60%, smaller in the edges.\n",
    "* range - the range of values is largest in the median and smaller in the edges.\n",
    "\n",
    "### 100% heuristic strength?\n",
    "\n",
    "A 100% heuristic strength leads to the best solution on average here. So why not just go for it? Well, here the trade-off between exploration and exploitation comes to bear. If you were to go for the 100% heuristic strength it would mean full exploitation, but it would be easy to get stuck in a local minimum.\n",
    "\n",
    "### Choosing a heuristic strength\n",
    "\n",
    "Based on the findings and conclusions I will opt for a heuristic strength of 70%. This gives a good average result while keeping a high standard deviation for exploration."
   ]
  },
  {
   "cell_type": "code",
   "execution_count": 122,
   "metadata": {},
   "outputs": [],
   "source": [
    "final_params.heuristic_strength = 0.7"
   ]
  },
  {
   "attachments": {},
   "cell_type": "markdown",
   "metadata": {},
   "source": [
    "\n",
    "## (2) What are the effects of the pheromone evaporation rate on the quality of the solutions obtained from ACO?"
   ]
  },
  {
   "cell_type": "code",
   "execution_count": 123,
   "metadata": {},
   "outputs": [
    {
     "name": "stdout",
     "output_type": "stream",
     "text": [
      "PARAMETERS\n",
      "Iterations: 10\n",
      "Ant count: 10\n",
      "Heuristic strength: 0.5\n",
      "Evaporation rate: 1.0\n",
      "Coordinates: (0.08792|0.114808), (0.886453|0.438732), (0.710248|0.321491), (0.248268|1.306361), (0.336466|0.449712), …\n",
      "\n",
      "Experiment   Evaporation Rate Time         Avg          Std          Min          Max         \n",
      "1                    0.00         1.30        82.81         2.20        81.33        87.00\n",
      "2                    0.10         1.31        85.07         2.82        81.18        89.31\n",
      "3                    0.20         1.31        82.58         4.80        75.44        91.47\n",
      "4                    0.30         1.30        81.97         4.79        75.71        89.75\n",
      "5                    0.40         1.32        81.84         5.49        72.92        89.22\n",
      "6                    0.50         1.28        79.22         6.90        69.75        92.82\n",
      "7                    0.60         1.28        77.19         8.46        63.66        87.69\n",
      "8                    0.70         1.29        72.49        10.27        53.65        87.79\n",
      "9                    0.80         1.33        69.86        12.97        53.80        91.94\n",
      "10                   0.90         1.32        66.03        11.93        52.62        88.21\n",
      "11                   1.00         1.28        68.08         8.29        61.03        87.25\n"
     ]
    }
   ],
   "source": [
    "evaporation_rate_params = deepcopy(baseline_params)\n",
    "\n",
    "experiments = [x/10 for x in range(11)]\n",
    "all_measurements = []\n",
    "\n",
    "for evaporation_rate in experiments:\n",
    "  evaporation_rate_params.evaporation_rate = evaporation_rate\n",
    "  aco = ACOAlgorithm(evaporation_rate_params)\n",
    "  while not aco.is_finished: sleep(0.1)\n",
    "  all_measurements.append(aco.measurements)\n",
    "\n",
    "evaporation_rate_params.print()\n",
    "print()\n",
    "Measurements.print_experiment(\"Evaporation Rate\", experiments, all_measurements)"
   ]
  },
  {
   "attachments": {},
   "cell_type": "markdown",
   "metadata": {},
   "source": [
    "The experimental result indicate that a higher evaporation rate leads to better results.\n",
    "\n",
    "* execution time - seems to slightly decrease with higher evaporation rate but not consistenly or noticeably.\n",
    "* average - seems to decrease with increasing evaporation rate but here with increasing intensity.\n",
    "* standard deviation - largest at about 90%, smaller in the edges.\n",
    "* range - seems to increase with increasing evaporation rate.\n",
    "\n",
    "### 100% evaporation rate?\n",
    "A 100% evaporation rate also seems to lead to the best solution on average. In contrast to 100% heuristic strength, here every round will be completely random. That leads to a very large standard deviation. So this does not seem like a great approach. Here we would eliminate exploitation completely which would make it unlikely to get stuck on local minimum but also likely to miss good solutions in the near neighborhood.\n",
    "\n",
    "### Choosing an evaporation rate\n",
    "A reasonable evaporation rate seems to be in the lower ranges, as otherwise the variance grows very large. I think a value of 40%."
   ]
  },
  {
   "cell_type": "code",
   "execution_count": 127,
   "metadata": {},
   "outputs": [],
   "source": [
    "final_params.evaporation_rate = 0.4"
   ]
  },
  {
   "attachments": {},
   "cell_type": "markdown",
   "metadata": {},
   "source": [
    "## (3) Compare the best results you have obtained using GA and ACO. Comment on your findings."
   ]
  },
  {
   "cell_type": "code",
   "execution_count": 128,
   "metadata": {},
   "outputs": [
    {
     "name": "stdout",
     "output_type": "stream",
     "text": [
      "PARAMETERS\n",
      "Iterations: 10\n",
      "Ant count: 10\n",
      "Heuristic strength: 0.7\n",
      "Evaporation rate: 0.4\n",
      "Coordinates: (0.08792|0.114808), (0.886453|0.438732), (0.710248|0.321491), (0.248268|1.306361), (0.336466|0.449712), …\n",
      "\n",
      "Experiment   Baseline     Time         Avg          Std          Min          Max         \n",
      "1                    0.00         1.32        76.84         5.74        67.12        88.44\n",
      "2                    0.00         1.30        75.04         6.20        64.59        86.12\n",
      "3                    0.00         1.29        75.92         4.92        69.80        83.07\n",
      "4                    0.00         1.29        75.93         4.74        68.99        85.40\n",
      "5                    0.00         1.29        75.61         5.92        66.76        84.08\n",
      "6                    0.00         1.31        75.32         4.67        68.25        84.32\n",
      "7                    0.00         1.30        75.29         5.46        68.83        86.29\n",
      "8                    0.00         1.29        75.39         6.01        65.88        83.94\n",
      "9                    0.00         1.29        74.62         5.05        67.77        82.38\n",
      "10                   0.00         1.28        75.09         5.12        68.52        83.84\n"
     ]
    }
   ],
   "source": [
    "experiments = [0.0 for i in range(10)]\n",
    "all_measurements = []\n",
    "\n",
    "for evaporation_rate in experiments:\n",
    "  aco = ACOAlgorithm(final_params)\n",
    "  while not aco.is_finished: sleep(0.1)\n",
    "  all_measurements.append(aco.measurements)\n",
    "\n",
    "final_params.print()\n",
    "print()\n",
    "Measurements.print_experiment(\"Final\", experiments, all_measurements)"
   ]
  },
  {
   "attachments": {},
   "cell_type": "markdown",
   "metadata": {},
   "source": [
    "The best result with the GA was:\n",
    "                             \n",
    "* Average result fitness: 81.497.\n",
    "* Average execution time: 0.554s.\n",
    "\n",
    "The score is a little lower for the GA. But when comparing the execution times, that does not seem to be a fair comparison. So I decided to use fewer ants to match the execution time of the GA."
   ]
  },
  {
   "cell_type": "code",
   "execution_count": 129,
   "metadata": {},
   "outputs": [
    {
     "name": "stdout",
     "output_type": "stream",
     "text": [
      "PARAMETERS\n",
      "Iterations: 10\n",
      "Ant count: 4\n",
      "Heuristic strength: 0.7\n",
      "Evaporation rate: 0.4\n",
      "Coordinates: (0.08792|0.114808), (0.886453|0.438732), (0.710248|0.321491), (0.248268|1.306361), (0.336466|0.449712), …\n",
      "\n",
      "Experiment   Final        Time         Avg          Std          Min          Max         \n",
      "1                    0.00         0.53        80.82         3.52        75.06        86.79\n",
      "2                    0.00         0.51        79.64         3.85        73.33        86.46\n",
      "3                    0.00         0.51        80.48         4.27        75.17        86.90\n",
      "4                    0.00         0.51        77.89         2.77        72.49        79.96\n",
      "5                    0.00         0.52        80.56         3.85        73.07        84.59\n",
      "6                    0.00         0.51        78.28         3.03        74.69        82.17\n",
      "7                    0.00         0.51        78.14         4.42        72.59        82.64\n",
      "8                    0.00         0.52        78.82         4.13        73.45        84.52\n",
      "9                    0.00         0.52        78.83         4.32        70.64        85.53\n",
      "10                   0.00         0.52        80.00         2.73        73.89        84.96\n"
     ]
    }
   ],
   "source": [
    "final_params.ant_count = 4\n",
    "\n",
    "experiments = [0.0 for i in range(10)]\n",
    "all_measurements = []\n",
    "\n",
    "for evaporation_rate in experiments:\n",
    "  aco = ACOAlgorithm(final_params)\n",
    "  while not aco.is_finished: sleep(0.1)\n",
    "  all_measurements.append(aco.measurements)\n",
    "\n",
    "final_params.print()\n",
    "print()\n",
    "Measurements.print_experiment(\"Final\", experiments, all_measurements)"
   ]
  },
  {
   "attachments": {},
   "cell_type": "markdown",
   "metadata": {},
   "source": [
    "And as you can see, the results are now hardly any different. Unfortunately, I do not have the other measurements for the GA."
   ]
  },
  {
   "attachments": {},
   "cell_type": "markdown",
   "metadata": {},
   "source": [
    "## Conclusion"
   ]
  },
  {
   "attachments": {},
   "cell_type": "markdown",
   "metadata": {},
   "source": [
    "All in all, the ACO was definitely an interesting algorithm to explore. In the end it did not provide a great improvement on the GA but that might just need some more parameter tuning. "
   ]
  }
 ],
 "metadata": {
  "kernelspec": {
   "display_name": "Python 3",
   "language": "python",
   "name": "python3"
  },
  "language_info": {
   "codemirror_mode": {
    "name": "ipython",
    "version": 3
   },
   "file_extension": ".py",
   "mimetype": "text/x-python",
   "name": "python",
   "nbconvert_exporter": "python",
   "pygments_lexer": "ipython3",
   "version": "3.11.2"
  },
  "orig_nbformat": 4
 },
 "nbformat": 4,
 "nbformat_minor": 2
}
