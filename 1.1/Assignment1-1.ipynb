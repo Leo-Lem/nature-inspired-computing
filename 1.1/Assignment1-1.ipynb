{
 "cells": [
  {
   "attachments": {},
   "cell_type": "markdown",
   "metadata": {},
   "source": [
    "# Assignment 1 Part 1 - Genetic Algorithm"
   ]
  },
  {
   "attachments": {},
   "cell_type": "markdown",
   "metadata": {},
   "source": [
    "**Note**: The following assumes that the distance between two cities is the shortest path between their xy-coordinates."
   ]
  },
  {
   "attachments": {},
   "cell_type": "markdown",
   "metadata": {},
   "source": [
    "## (1) Base algorithm"
   ]
  },
  {
   "attachments": {},
   "cell_type": "markdown",
   "metadata": {},
   "source": [
    "### 1. Preparation"
   ]
  },
  {
   "attachments": {},
   "cell_type": "markdown",
   "metadata": {},
   "source": [
    "* defining 'typealiases' for clearer code\n",
    "* defining filename variable"
   ]
  },
  {
   "cell_type": "code",
   "execution_count": 2,
   "metadata": {},
   "outputs": [],
   "source": [
    "from typing import List, Tuple\n",
    "\n",
    "\n",
    "CityCoordinate = Tuple[float, float]\n",
    "Route = List[int]\n",
    "\n",
    "TSP_FILENAME = \"d200-41.tsp\""
   ]
  },
  {
   "attachments": {},
   "cell_type": "markdown",
   "metadata": {},
   "source": [
    "### 2. Base genetic algorithm"
   ]
  },
  {
   "attachments": {},
   "cell_type": "markdown",
   "metadata": {},
   "source": [
    "I decided to go with an abstract genetic algorithm for TSPs, as to reduce code dupication when using different parameters. The ABC gives me the option to require methods from subclasses.\n",
    "\n",
    "The parameters and required methods are explained in the docstring.\n",
    "\n",
    "Additionally, the TSPGA imports the coordinates at `TSP_FILENAME` and calculates the fitness scores. The fitness score is calculated by using the distance. Invalid routes are penalized infinitely."
   ]
  },
  {
   "cell_type": "code",
   "execution_count": 3,
   "metadata": {},
   "outputs": [],
   "source": [
    "from abc import ABC, abstractmethod\n",
    "from math import sqrt\n",
    "from random import random\n",
    "from time import time\n",
    "\n",
    "class TSPGA(ABC):\n",
    "    \"\"\"\n",
    "    The abstract base class of a genetic algorithm (GA) for solving Travelling Salesman Problem's (TSP).\n",
    "\n",
    "    Parameters\n",
    "        `population_size (int)`: An integer representing the population size.\\n\n",
    "        `parent_count (int)`: An integer representing the number of parents.\\n\n",
    "        `mutation_rate (float)`: A float representing the rate of mutation (0 to 1).\\n\n",
    "\n",
    "    Required methods\n",
    "        `generate() -> List[Route]`: Generates an initial population.\\n\n",
    "        `select(List[Route], count: int) -> List[Route]`: Selects `count` individuals from provided candidates.\\n\n",
    "        `procreate(List[Route]) -> Route`: Creates a single child from the provided parents.\\n\n",
    "        `mutate (Route) -> Route`: Mutates a single route.\n",
    "    \"\"\"\n",
    "\n",
    "    def __init__(self, \n",
    "                 population_size: int, \n",
    "                 parent_count: int, \n",
    "                 mutation_rate: float,\n",
    "                 city_count: int):\n",
    "        self.population_size = population_size\n",
    "        self.parent_count = parent_count\n",
    "        self.mutation_rate = mutation_rate\n",
    "        self.city_count = city_count\n",
    "\n",
    "        self.city_coordinates = self.import_city_coordinates()\n",
    "\n",
    "    @abstractmethod\n",
    "    def generate(self) -> List[Route]:\n",
    "        pass\n",
    "\n",
    "    @abstractmethod\n",
    "    def select(self, candidates: List[Route], count: int) -> List[Route]:\n",
    "        pass\n",
    "\n",
    "    @abstractmethod\n",
    "    def procreate(self, parents: List[Route]) -> Route:\n",
    "        pass\n",
    "\n",
    "    @abstractmethod\n",
    "    def mutate(self, route: Route) -> Route:\n",
    "        pass\n",
    "    \n",
    "    @property\n",
    "    def execution_time(self) -> float:\n",
    "        return self.end_time - self.start_time\n",
    "    \n",
    "    @property\n",
    "    def result_fitness(self) -> float:\n",
    "        return self.calculate_fitness(route=self.result)\n",
    "\n",
    "    def execute(self, max_generations: int):\n",
    "        \"\"\"\n",
    "        The method of the TSPGA to execute the algorithm.\n",
    "\n",
    "        Parameter `max_generations (int)`: The maximum number of generations before execution finishes.\n",
    "\n",
    "        Results are saved to the following properties:\n",
    "            `result (Route)`: The resulting fittest route.\n",
    "            `result_fitness (float)`: The fitness of `result`.\n",
    "            `execution_time (float)`: The total time of execution (in seconds).\n",
    "        \"\"\"\n",
    "        self.start_time = time()\n",
    "\n",
    "        population: List[Route] = self.generate()\n",
    "\n",
    "        for i in range(max_generations):\n",
    "            self.result = min(population, key=self.calculate_fitness)\n",
    "\n",
    "            parents = self.select(candidates=population, count=self.parent_count)\n",
    "            \n",
    "            # offsets the parent array to generate a new child for each parent\n",
    "            offspring = [self.procreate(parents=parents[i:] + parents[:i]) for i in range(len(parents))]\n",
    "            survivors = self.select(candidates=population + offspring, count=self.population_size)\n",
    "            \n",
    "            # mutates with a change of mutation_rate\n",
    "            with_mutants = [self.mutate(route=route) if random() < self.mutation_rate else route for route in survivors]\n",
    "\n",
    "            population = with_mutants.copy()\n",
    "\n",
    "        self.end_time = time()\n",
    "\n",
    "    def import_city_coordinates(self) -> List[CityCoordinate]:\n",
    "        with open(TSP_FILENAME, 'r') as file:\n",
    "            city_coordinates: List[CityCoordinate] = []\n",
    "\n",
    "            for line in file:\n",
    "                raw = line.strip().split(\"  \")\n",
    "                x, y = float(raw[0]), float(raw[1])\n",
    "                city_coordinates.append((x, y))\n",
    "\n",
    "            return city_coordinates.copy()[:self.city_count]\n",
    "\n",
    "    def calculate_fitness(self, route: Route) -> float:\n",
    "        if not self.contains_all_cities(route=route): \n",
    "            return float('inf')\n",
    "        \n",
    "        # the distance of the last leg is added here\n",
    "        distance: float = self.calculate_city_distance(first=self.city_coordinates[route[-1]], second=self.city_coordinates[route[0]])\n",
    "\n",
    "        for i in range(self.city_count - 1):\n",
    "\n",
    "            city_distance = self.calculate_city_distance(\n",
    "                first=self.city_coordinates[route[i]], second=self.city_coordinates[route[i + 1]]\n",
    "            )\n",
    "            distance += city_distance\n",
    "        \n",
    "        return distance\n",
    "    \n",
    "    def calculate_city_distance(self, first: CityCoordinate, second: CityCoordinate) -> float:\n",
    "        distance = sqrt((second[0] - first[0])**2 + (second[1] - first[1])**2)\n",
    "        return distance\n",
    "    \n",
    "    def contains_all_cities(self, route: Route) -> bool:\n",
    "        all_cities = set(range(self.city_count))\n",
    "        return set(route) == all_cities"
   ]
  },
  {
   "attachments": {},
   "cell_type": "markdown",
   "metadata": {},
   "source": [
    "## (2) Initial Design"
   ]
  },
  {
   "attachments": {},
   "cell_type": "markdown",
   "metadata": {},
   "source": [
    "For the baseline algorithm I decided to use the following parameters:\n",
    "* **Generation**: Random initial population (of valid routes).\n",
    "* **Selection**: Parents are selected by highest fitness scores.\n",
    "* **Procreation**: Procreation is implemented via equal cut-and-crossfill (to generate valid routes).\n",
    "* **Mutation**: Mutation is carried out via two-element swapping.\n",
    "* **Others**: population size 10, parent count 2, mutation rate of 5%.\n",
    "\n",
    "**Note**: The experiments only use the first 50 cities for quicker execution."
   ]
  },
  {
   "attachments": {},
   "cell_type": "markdown",
   "metadata": {},
   "source": [
    "### 1. Initial parameters"
   ]
  },
  {
   "attachments": {},
   "cell_type": "markdown",
   "metadata": {},
   "source": [
    "#### Generation"
   ]
  },
  {
   "attachments": {},
   "cell_type": "markdown",
   "metadata": {},
   "source": [
    "In generating initial routes, I decided to go with random routes. This was accomplished by creating the default route (first to last city in order) and applying random's shuffle function.\n",
    "\n",
    "**Possible experiments**:\n",
    "* Provide a fixed set of initial routes (like forwards, backwards).\n",
    "* Incorporate coordinate data to generate better initial routes."
   ]
  },
  {
   "cell_type": "code",
   "execution_count": 4,
   "metadata": {},
   "outputs": [],
   "source": [
    "from random import shuffle\n",
    "\n",
    "\n",
    "def generate_initial_population_randomly(population_size: int, city_count: int) -> List[Route]:\n",
    "     def generate_random_route() -> Route:\n",
    "          route: Route = list(range(city_count))\n",
    "          shuffle(route)\n",
    "          return route\n",
    "\n",
    "     initial_routes: list[Route] = [generate_random_route() for _ in range(population_size)]\n",
    "\n",
    "     return initial_routes"
   ]
  },
  {
   "attachments": {},
   "cell_type": "markdown",
   "metadata": {},
   "source": [
    "#### Selection"
   ]
  },
  {
   "attachments": {},
   "cell_type": "markdown",
   "metadata": {},
   "source": [
    "I decided to go with the same mechanism for selecting parents and survivors. Using different mechanisms seems a unnecessarily complicate things.\n",
    "\n",
    "Starting off, I chose to select the fittest individuals.\n",
    "\n",
    "**Possible experiments**:\n",
    "* Random selection.\n",
    "* Random selection with weighted fitness scores."
   ]
  },
  {
   "cell_type": "code",
   "execution_count": 5,
   "metadata": {},
   "outputs": [],
   "source": [
    "from typing import Callable\n",
    "\n",
    "\n",
    "def select_by_fitness(candidates: List[Route], count: int, calculate_fitness: Callable[[Route], float]) -> List[Route]:\n",
    "    candidates_in_ascending_order: List[Route] = sorted(candidates, key=calculate_fitness)\n",
    "    parents: List[Route] = candidates_in_ascending_order[:count]\n",
    "    return parents"
   ]
  },
  {
   "attachments": {},
   "cell_type": "markdown",
   "metadata": {},
   "source": [
    "#### Procreation"
   ]
  },
  {
   "attachments": {},
   "cell_type": "markdown",
   "metadata": {},
   "source": [
    "For now, I opted to go with equal cut-and-crossfill for procreation (all parents pass on equal amount of genes).\n",
    "\n",
    "**Possible Experiments**:\n",
    "* Random crossover points.\n",
    "* Fitness-influenced crossover points."
   ]
  },
  {
   "cell_type": "code",
   "execution_count": 6,
   "metadata": {},
   "outputs": [],
   "source": [
    "def procreate_by_equal_cut_and_crossfill(parents: List[Route]) -> Route:\n",
    "    parent_count = len(parents)\n",
    "    city_count = len(parents[0])\n",
    "    step = (city_count-1) // (parent_count-1)\n",
    "    crossover_points = list(range(step, city_count, step)) \n",
    "    \n",
    "    child = parents[0][:crossover_points[0]]\n",
    "    for i in range(len(crossover_points)):\n",
    "        start = crossover_points[i - 1] if i > 0 else 0\n",
    "        end = crossover_points[i] if i < len(crossover_points) - 1 else len(crossover_points)\n",
    "\n",
    "        for j in range(start, end):\n",
    "            if parents[i][j] not in child[:end]:\n",
    "                child.append(parents[i][j])\n",
    "\n",
    "    # this adds the missing values to the child\n",
    "    if len(child) < city_count: \n",
    "        child += list(set(range(city_count)) - set(child))\n",
    "\n",
    "    return child"
   ]
  },
  {
   "attachments": {},
   "cell_type": "markdown",
   "metadata": {},
   "source": [
    "#### Mutation"
   ]
  },
  {
   "attachments": {},
   "cell_type": "markdown",
   "metadata": {},
   "source": [
    "For mutation I chose to go with a swap mutation. Implementation uses the random module.\n",
    "\n",
    "**Possible experiments**:\n",
    "* Using increment mutation (will generate illegal solutions).\n",
    "* Swapping sub lists of random length."
   ]
  },
  {
   "cell_type": "code",
   "execution_count": 7,
   "metadata": {},
   "outputs": [],
   "source": [
    "from random import sample\n",
    "\n",
    "\n",
    "def mutate_by_swapping(route: Route) -> Route:\n",
    "    new_route = route.copy()\n",
    "    pos1, pos2 = sample(range(len(new_route)), 2)\n",
    "    new_route[pos1], new_route[pos2] = new_route[pos2], new_route[pos1]\n",
    "    return new_route"
   ]
  },
  {
   "attachments": {},
   "cell_type": "markdown",
   "metadata": {},
   "source": [
    "### 2. TSP genetic algorithm v1"
   ]
  },
  {
   "cell_type": "code",
   "execution_count": 8,
   "metadata": {},
   "outputs": [],
   "source": [
    "class V1(TSPGA):\n",
    "    def __init__(self, \n",
    "                 population_size: int = 10, \n",
    "                 parent_count: int = 2, \n",
    "                 mutation_rate: float = 0.05,\n",
    "                 city_count: int = 50):\n",
    "        super().__init__(population_size, parent_count, mutation_rate, city_count)\n",
    "\n",
    "    def generate(self) -> List[Route]:\n",
    "        return generate_initial_population_randomly(\n",
    "            population_size=self.population_size, \n",
    "            city_count=self.city_count\n",
    "        )\n",
    "    \n",
    "    def select(self, candidates: List[Route], count: int) -> List[Route]:\n",
    "        return select_by_fitness(\n",
    "            candidates=candidates, \n",
    "            count=count, \n",
    "            calculate_fitness=self.calculate_fitness\n",
    "        )\n",
    "    \n",
    "    def procreate(self, parents: List[Route]) -> Route:\n",
    "        return procreate_by_equal_cut_and_crossfill(parents=parents)\n",
    "    \n",
    "    def mutate(self, route: Route) -> Route:\n",
    "        return mutate_by_swapping(route=route)"
   ]
  },
  {
   "attachments": {},
   "cell_type": "markdown",
   "metadata": {},
   "source": [
    "### 3. Automatic measurements"
   ]
  },
  {
   "attachments": {},
   "cell_type": "markdown",
   "metadata": {},
   "source": [
    "Before experimenting, I needed to decide on some measurements. In the end I picked\n",
    "1. the actual time of evolving through 100 generations.\n",
    "2. the fitness of the best result after 100 generations.\n",
    "\n",
    "With these two, I will run each algorithm 10 times. This should give a good estimate of parameter quality.\n",
    "\n",
    "**Note**: These measurements are measured in the abstract genetic algorithm defined above."
   ]
  },
  {
   "cell_type": "code",
   "execution_count": 9,
   "metadata": {},
   "outputs": [],
   "source": [
    "def measure(title: str, tspga: TSPGA, max_generations: int = 100, run_count: int = 10):\n",
    "    result_fitness_values, execution_times = [], []\n",
    "\n",
    "    print()\n",
    "\n",
    "    for i in range(run_count):\n",
    "        tspga.execute(max_generations=max_generations)\n",
    "        print(f\"Execution {i+1} | Time: {tspga.execution_time:.3f}s | Fitness: {tspga.result_fitness:.3f}.\", end=\"\\r\")\n",
    "        result_fitness_values.append(tspga.result_fitness)\n",
    "        execution_times.append(tspga.execution_time)\n",
    "\n",
    "    print(\" \" * len(f\"Execution {run_count} | Time: {tspga.execution_time:.3f}s | Fitness: {tspga.result_fitness:.3f}.\"), end=\"\\r\")\n",
    "\n",
    "    average_result_fitness = sum(result_fitness_values) / run_count\n",
    "    average_execution_time = sum(execution_times) / run_count\n",
    "    \n",
    "    print(title + \":\")\n",
    "    print(f\" Average result fitness: {average_result_fitness:.3f}.\")\n",
    "    print(f\" Average execution time: {average_execution_time:.3f}s.\")"
   ]
  },
  {
   "attachments": {},
   "cell_type": "markdown",
   "metadata": {},
   "source": [
    "### 4. Generating a baseline"
   ]
  },
  {
   "cell_type": "code",
   "execution_count": 10,
   "metadata": {},
   "outputs": [
    {
     "name": "stdout",
     "output_type": "stream",
     "text": [
      "\n",
      "BASELINE:                                     \n",
      " Average result fitness: 25.497.\n",
      " Average execution time: 0.036s.\n"
     ]
    }
   ],
   "source": [
    "def measure_baseline():\n",
    "    measure(\"BASELINE\", tspga=V1())\n",
    "\n",
    "measure_baseline()"
   ]
  },
  {
   "attachments": {},
   "cell_type": "markdown",
   "metadata": {},
   "source": [
    "## (3) Experimenting"
   ]
  },
  {
   "attachments": {},
   "cell_type": "markdown",
   "metadata": {},
   "source": [
    "### Changing the population size"
   ]
  },
  {
   "cell_type": "code",
   "execution_count": 11,
   "metadata": {},
   "outputs": [
    {
     "name": "stdout",
     "output_type": "stream",
     "text": [
      "\n",
      "BASELINE:                                     \n",
      " Average result fitness: 26.724.\n",
      " Average execution time: 0.036s.\n",
      "\n",
      "POPULATION SIZE 10:                           \n",
      " Average result fitness: 23.728.\n",
      " Average execution time: 0.085s.\n",
      "\n",
      "POPULATION SIZE 50:                           \n",
      " Average result fitness: 23.069.\n",
      " Average execution time: 0.167s.\n",
      "\n",
      "POPULATION SIZE 100:                          \n",
      " Average result fitness: 22.984.\n",
      " Average execution time: 0.332s.\n"
     ]
    }
   ],
   "source": [
    "measure_baseline()\n",
    "measure(\"POPULATION SIZE 10\", tspga=V1(population_size=25))\n",
    "measure(\"POPULATION SIZE 50\", tspga=V1(population_size=50))\n",
    "measure(\"POPULATION SIZE 100\", tspga=V1(population_size=100))"
   ]
  },
  {
   "attachments": {},
   "cell_type": "markdown",
   "metadata": {},
   "source": [
    "**Execution time**: Execution time increases in a linear fashion with population size.  \n",
    "**Result fitness**: Population size seems to improve resulting fitness, but only up to a point.\n",
    "\n",
    "**Conclusion**: Taking into account the performance decrease brought on by higher population size, I decided on a population size of 25. This seems to bring a good increase in fitness score, whilst still executing reasonably quickly."
   ]
  },
  {
   "cell_type": "code",
   "execution_count": 12,
   "metadata": {},
   "outputs": [],
   "source": [
    "POPULATION_SIZE : int= 25"
   ]
  },
  {
   "attachments": {},
   "cell_type": "markdown",
   "metadata": {},
   "source": [
    "### Changing the parent count"
   ]
  },
  {
   "cell_type": "code",
   "execution_count": 13,
   "metadata": {},
   "outputs": [
    {
     "name": "stdout",
     "output_type": "stream",
     "text": [
      "\n",
      "BASELINE:                                     \n",
      " Average result fitness: 25.644.\n",
      " Average execution time: 0.036s.\n",
      "\n",
      "PARENT COUNT 5:                               \n",
      " Average result fitness: 25.010.\n",
      " Average execution time: 0.043s.\n",
      "\n",
      "PARENT COUNT 15:                              \n",
      " Average result fitness: 21.974.\n",
      " Average execution time: 0.055s.\n",
      "\n",
      "PARENT COUNT 25:                              \n",
      " Average result fitness: 22.255.\n",
      " Average execution time: 0.054s.\n"
     ]
    }
   ],
   "source": [
    "measure_baseline()\n",
    "measure(\"PARENT COUNT 5\", tspga=V1(parent_count=5))\n",
    "measure(\"PARENT COUNT 15\", tspga=V1(parent_count=15))\n",
    "measure(\"PARENT COUNT 25\", tspga=V1(parent_count=25))"
   ]
  },
  {
   "attachments": {},
   "cell_type": "markdown",
   "metadata": {},
   "source": [
    "**Execution time**: Execution time seems to increase only marginally.  \n",
    "**Result fitness**: The result fitness increases, but again only to a point.  \n",
    "\n",
    "**Conclusion**: A parent count of around 15 seems to result in the best fitness values, whilst only marginally decreasing performance."
   ]
  },
  {
   "cell_type": "code",
   "execution_count": 14,
   "metadata": {},
   "outputs": [],
   "source": [
    "PARENT_COUNT = 15"
   ]
  },
  {
   "attachments": {},
   "cell_type": "markdown",
   "metadata": {},
   "source": [
    "### Changing mutation rate"
   ]
  },
  {
   "cell_type": "code",
   "execution_count": 15,
   "metadata": {},
   "outputs": [
    {
     "name": "stdout",
     "output_type": "stream",
     "text": [
      "\n",
      "BASELINE:                                     \n",
      " Average result fitness: 25.704.\n",
      " Average execution time: 0.036s.\n",
      "\n",
      "MUTATION RATE 0%:                             \n",
      " Average result fitness: 30.873.\n",
      " Average execution time: 0.035s.\n",
      "\n",
      "MUTATION RATE 25%:                            \n",
      " Average result fitness: 21.068.\n",
      " Average execution time: 0.036s.\n",
      "\n",
      "MUTATION RATE 100%:                           \n",
      " Average result fitness: 24.330.\n",
      " Average execution time: 0.037s.\n"
     ]
    }
   ],
   "source": [
    "measure_baseline()\n",
    "measure(\"MUTATION RATE 0%\", tspga=V1(mutation_rate=0))\n",
    "measure(\"MUTATION RATE 25%\", tspga=V1(mutation_rate=0.25))\n",
    "measure(\"MUTATION RATE 100%\", tspga=V1(mutation_rate=1))"
   ]
  },
  {
   "attachments": {},
   "cell_type": "markdown",
   "metadata": {},
   "source": [
    "**Execution time**: Execution time seems to increase only marginally.  \n",
    "**Result fitness**: Fitness increases at first, but then decreases again with a higher mutation rate.\n",
    "\n",
    "**Conclusion**: The experiments point towards a higher mutation rate of around 25%."
   ]
  },
  {
   "cell_type": "code",
   "execution_count": 16,
   "metadata": {},
   "outputs": [],
   "source": [
    "MUTATION_RATE = 0.25"
   ]
  },
  {
   "attachments": {},
   "cell_type": "markdown",
   "metadata": {},
   "source": [
    "### IGNORE: Changing selection mechanism"
   ]
  },
  {
   "attachments": {},
   "cell_type": "markdown",
   "metadata": {},
   "source": [
    "For this experiment, I will use the random selection and random selection with fitness weights."
   ]
  },
  {
   "cell_type": "code",
   "execution_count": 17,
   "metadata": {},
   "outputs": [],
   "source": [
    "from random import choices\n",
    "\n",
    "def select_randomly(candidates: List[Route], count: int) -> List[Route]:\n",
    "    survivors: List[Route] = choices(candidates, k=count)\n",
    "    return survivors\n",
    "\n",
    "class V1_RandomSelection(V1):\n",
    "    def select(self, candidates: List[Route], count: int) -> List[Route]:\n",
    "        return select_randomly(candidates=candidates, count=count)"
   ]
  },
  {
   "cell_type": "code",
   "execution_count": 18,
   "metadata": {},
   "outputs": [],
   "source": [
    "from random import choices\n",
    "\n",
    "def select_randomly_with_fitness_weights(\n",
    "        candidates: List[Route], count: int, calculate_fitness: Callable[[Route], float]\n",
    ") -> List[Route]:\n",
    "    survivors: List[Route] = choices(\n",
    "        candidates,\n",
    "        weights=[1 / calculate_fitness(candidate) + 1 for candidate in candidates],\n",
    "        k=count\n",
    "    )\n",
    "    return survivors\n",
    "\n",
    "class V1_FitnessWeightedRandomSelection(V1):\n",
    "    def select(self, candidates: List[Route], count: int) -> List[Route]:\n",
    "        return select_randomly_with_fitness_weights(\n",
    "            candidates=candidates,\n",
    "            count=count,\n",
    "            calculate_fitness=self.calculate_fitness\n",
    "        )"
   ]
  },
  {
   "cell_type": "code",
   "execution_count": 19,
   "metadata": {},
   "outputs": [
    {
     "name": "stdout",
     "output_type": "stream",
     "text": [
      "\n",
      "BASELINE:                                     \n",
      " Average result fitness: 25.855.\n",
      " Average execution time: 0.036s.\n",
      "\n",
      "RANDOM:                                       \n",
      " Average result fitness: 33.721.\n",
      " Average execution time: 0.012s.\n",
      "\n",
      "RANDOM WITH FITNESS WEIGHTS:                  \n",
      " Average result fitness: 33.170.\n",
      " Average execution time: 0.036s.\n"
     ]
    }
   ],
   "source": [
    "measure_baseline()\n",
    "measure(\"RANDOM\", tspga=V1_RandomSelection())\n",
    "measure(\"RANDOM WITH FITNESS WEIGHTS\", tspga=V1_FitnessWeightedRandomSelection())"
   ]
  },
  {
   "attachments": {},
   "cell_type": "markdown",
   "metadata": {},
   "source": [
    "**Execution time**: Execution time seems to increase noticeably for random selection, marginally when using fitness weights.  \n",
    "**Result fitness**: Resulting fitness is a lot worse than in the baseline.\n",
    "\n",
    "**Conclusion**: It seems, both approaches severely worsen resulting fitness. I will stay with the baseline mechanism."
   ]
  },
  {
   "attachments": {},
   "cell_type": "markdown",
   "metadata": {},
   "source": [
    "### IGNORE: Changing procreation mechanism"
   ]
  },
  {
   "attachments": {},
   "cell_type": "markdown",
   "metadata": {},
   "source": [
    "In procreation i chose to do two experiments:\n",
    "1. Using simple crossover (will generate illegal solutions).\n",
    "2. Using random crossover points instead of equally crossing over all parents.\n",
    "\n",
    "**Note**: Number 2. is generated using random's randint and removing duplicates -> Not all parents are crossed over into all children."
   ]
  },
  {
   "cell_type": "code",
   "execution_count": 20,
   "metadata": {},
   "outputs": [],
   "source": [
    "from random import randint\n",
    "\n",
    "\n",
    "def procreate_by_simple_crossover(parents: List[Route]) -> Route:\n",
    "    parent_count = len(parents)\n",
    "    city_count = len(parents[0])\n",
    "\n",
    "    step = (city_count-1) // (parent_count-1)\n",
    "    crossover_points = list(range(step, city_count, step)) \n",
    "    \n",
    "    child = parents[0].copy()\n",
    "    for i in range(len(crossover_points)):\n",
    "        start = crossover_points[i - 1] if i > 0 else 0\n",
    "        end = crossover_points[i] if i < len(crossover_points) - 1 else len(crossover_points)\n",
    "\n",
    "        child[start:end] = parents[i][start:end]\n",
    "\n",
    "    return child\n",
    "\n",
    "class V1_ProcreateBySimpleCrossover(V1):\n",
    "    def procreate(self, parents: List[Route]) -> Route:\n",
    "        return procreate_by_simple_crossover(parents=parents)"
   ]
  },
  {
   "cell_type": "code",
   "execution_count": 21,
   "metadata": {},
   "outputs": [],
   "source": [
    "from random import randint\n",
    "\n",
    "\n",
    "def procreate_by_random_cut_and_crossfill(parents: List[Route]) -> Route:\n",
    "    parent_count = len(parents)\n",
    "    city_count = len(parents[0])\n",
    "\n",
    "    crossover_points = sorted(list(set(randint(0, city_count) for _ in range(parent_count))))\n",
    "    \n",
    "    child = parents[0][:crossover_points[0]]\n",
    "    for i in range(len(crossover_points)):\n",
    "        start = crossover_points[i - 1] if i > 0 else 0\n",
    "        end = crossover_points[i] if i < len(crossover_points) - 1 else len(crossover_points)\n",
    "\n",
    "        for j in range(start, end):\n",
    "            if parents[i][j] not in child[:end]:\n",
    "                child.append(parents[i][j])\n",
    "\n",
    "    # this adds the missing values to the child\n",
    "    if len(child) < city_count: \n",
    "        child += list(set(range(city_count)) - set(child))\n",
    "\n",
    "    return child\n",
    "\n",
    "class V1_ProcreateByCrossoverWithRandomPoints(V1):\n",
    "    def procreate(self, parents: List[Route]) -> Route:\n",
    "        return procreate_by_random_cut_and_crossfill(parents=parents)"
   ]
  },
  {
   "cell_type": "code",
   "execution_count": 22,
   "metadata": {},
   "outputs": [
    {
     "name": "stdout",
     "output_type": "stream",
     "text": [
      "\n",
      "BASELINE:                                     \n",
      " Average result fitness: 25.966.\n",
      " Average execution time: 0.036s.\n",
      "\n",
      "PROCREATE BY SIMPLE CROSSOVER:                \n",
      " Average result fitness: 26.144.\n",
      " Average execution time: 0.035s.\n",
      "\n",
      "PROCREATE BY RANDOM CUT AND CROSSFILL:        \n",
      " Average result fitness: 28.659.\n",
      " Average execution time: 0.036s.\n"
     ]
    }
   ],
   "source": [
    "measure_baseline()\n",
    "measure(\"PROCREATE BY SIMPLE CROSSOVER\", tspga=V1_ProcreateBySimpleCrossover())\n",
    "measure(\"PROCREATE BY RANDOM CUT AND CROSSFILL\", tspga=V1_ProcreateByCrossoverWithRandomPoints())"
   ]
  },
  {
   "attachments": {},
   "cell_type": "markdown",
   "metadata": {},
   "source": [
    "**Execution time**: Roughly the same as baseline, simple crossover brings small performance increase.  \n",
    "**Result fitness**: Using random cut and crossfill seems to decrease the fitness, simple crossover seems to make the resulting fitness more volatile.\n",
    "\n",
    "**Conclusion**: With the results in mind, I decided to keep the baseline mechanism."
   ]
  },
  {
   "attachments": {},
   "cell_type": "markdown",
   "metadata": {},
   "source": [
    "### IGNORE: Changing mutation mechanism"
   ]
  },
  {
   "attachments": {},
   "cell_type": "markdown",
   "metadata": {},
   "source": [
    "I decided to experiment with two other mechanisms:\n",
    "1. Incrementing a random element (this results in illegal solutions, but who knows, maybe it will do some good)\n",
    "2. Swapping slices of random length (generalizes the swap mutation further)"
   ]
  },
  {
   "cell_type": "code",
   "execution_count": 23,
   "metadata": {},
   "outputs": [],
   "source": [
    "from random import sample\n",
    "\n",
    "\n",
    "def mutate_by_incrementing(route: Route, city_count: int) -> Route:\n",
    "    new_route = route.copy()\n",
    "\n",
    "    pos = randint(0, len(new_route)-1)\n",
    "    new_route[pos] = new_route[pos] % (city_count-1)\n",
    "\n",
    "    return new_route\n",
    "\n",
    "class V1_MutateByIncrementing(V1):\n",
    "    def mutate(self, route: Route) -> Route:\n",
    "        return mutate_by_incrementing(route=route, city_count=self.city_count)"
   ]
  },
  {
   "cell_type": "code",
   "execution_count": 24,
   "metadata": {},
   "outputs": [],
   "source": [
    "from random import randint\n",
    "\n",
    "\n",
    "def mutate_by_swapping_random_slices(route: Route) -> Route:\n",
    "    new_route = route.copy()\n",
    "\n",
    "    slice_length = randint(1, len(route) // 2)\n",
    "\n",
    "    start1 = randint(0, len(route) - 2 * slice_length)\n",
    "    end1 = start1 + slice_length\n",
    "    start2 = end1 + randint(0, len(route) - end1)\n",
    "    end2 = start2 + slice_length\n",
    "    \n",
    "    slice1, slice2 = new_route[start1:end1], new_route[start2:end2]\n",
    "    new_route[start1:end1], new_route[start2:end2] = slice2, slice1\n",
    "\n",
    "    return new_route\n",
    "\n",
    "class V1_MutateBySwappingRandomSlices(V1):\n",
    "    def mutate(self, route: Route) -> Route:\n",
    "        return mutate_by_incrementing(route=route, city_count=self.city_count)"
   ]
  },
  {
   "cell_type": "code",
   "execution_count": 25,
   "metadata": {},
   "outputs": [
    {
     "name": "stdout",
     "output_type": "stream",
     "text": [
      "\n",
      "BASELINE:                                     \n",
      " Average result fitness: 26.276.\n",
      " Average execution time: 0.036s.\n",
      "\n",
      "MUTATE BY INCREMENTING:                       \n",
      " Average result fitness: 30.576.\n",
      " Average execution time: 0.035s.\n",
      "\n",
      "MUTATE BY SWAPPING RANDOM SLICES:             \n",
      " Average result fitness: 31.057.\n",
      " Average execution time: 0.035s.\n"
     ]
    }
   ],
   "source": [
    "measure_baseline()\n",
    "measure(\"MUTATE BY INCREMENTING\", tspga=V1_MutateByIncrementing())\n",
    "measure(\"MUTATE BY SWAPPING RANDOM SLICES\", tspga=V1_MutateBySwappingRandomSlices())"
   ]
  },
  {
   "attachments": {},
   "cell_type": "markdown",
   "metadata": {},
   "source": [
    "**Execution time**: Roughly the same as baseline.  \n",
    "**Result fitness**: Both mutation variants seem to generate worse solutions than the baseline.\n",
    "\n",
    "**Conclusion**: I will stick with the baseline mutation method."
   ]
  },
  {
   "attachments": {},
   "cell_type": "markdown",
   "metadata": {},
   "source": [
    "## (4) Final design and Conclusion"
   ]
  },
  {
   "attachments": {},
   "cell_type": "markdown",
   "metadata": {},
   "source": [
    "Combining the experimental results the FinalTSPGA will hopefully deliver better results than the other algorithms. \n",
    "* The mechanisms will remain unchanged, as none of the others brought any real improvement.\n",
    "* Population size of 25, parent count of 15, and a mutation rate of 25% will be used.\n",
    "\n",
    "**Note**: The algorithm now uses all 200 cities instead of the only 50."
   ]
  },
  {
   "cell_type": "code",
   "execution_count": 26,
   "metadata": {},
   "outputs": [],
   "source": [
    "class FinalTSPGA(V1):\n",
    "    def __init__(self, \n",
    "                 population_size: int = POPULATION_SIZE, \n",
    "                 parent_count: int = PARENT_COUNT, \n",
    "                 mutation_rate: float = MUTATION_RATE, \n",
    "                 city_count: int = 200):\n",
    "        super().__init__(population_size, parent_count, mutation_rate, city_count)"
   ]
  },
  {
   "cell_type": "code",
   "execution_count": 27,
   "metadata": {},
   "outputs": [
    {
     "name": "stdout",
     "output_type": "stream",
     "text": [
      "\n",
      "BASELINE:                                     \n",
      " Average result fitness: 85.300.\n",
      " Average execution time: 0.546s.\n",
      "\n",
      "FINAL TSPGA:                                  \n",
      " Average result fitness: 81.497.\n",
      " Average execution time: 0.554s.\n"
     ]
    }
   ],
   "source": [
    "measure(\"BASELINE\", tspga=V1(city_count=200), max_generations=400)\n",
    "measure(\"FINAL TSPGA\", tspga=FinalTSPGA(city_count=200))"
   ]
  },
  {
   "attachments": {},
   "cell_type": "markdown",
   "metadata": {},
   "source": [
    "**Note**: Trying out the final algorithm showed, it took about 4x as long to execute as the baseline, so it seemed only fair to let the baseline execute 4x as many generations. There is still a noticeable improvement with the final algorithm."
   ]
  },
  {
   "attachments": {},
   "cell_type": "markdown",
   "metadata": {},
   "source": [
    "### Concluding"
   ]
  },
  {
   "attachments": {},
   "cell_type": "markdown",
   "metadata": {},
   "source": [
    "After experimenting with different parameters, it's safe to say some changes improved the algorithm and some didn't. \n",
    "As the final algorithm brought better results, it's safe to assume that at least some of the observations were valid.\n",
    "\n",
    "But the experimental results cannot be generalized too well, and have to be treated with caution:\n",
    "* Averaging only 10 runs still allows for significant variation.\n",
    "* Furthermore, no measurement of the volatility/variance of the results was taken.\n",
    "* Not optimizing these parameters automatically, always leaves room for human error.\n",
    "* Some parameters influence each other, which makes the baseline influence the experimental results (not considered here)."
   ]
  }
 ],
 "metadata": {
  "kernelspec": {
   "display_name": "Python 3",
   "language": "python",
   "name": "python3"
  },
  "language_info": {
   "codemirror_mode": {
    "name": "ipython",
    "version": 3
   },
   "file_extension": ".py",
   "mimetype": "text/x-python",
   "name": "python",
   "nbconvert_exporter": "python",
   "pygments_lexer": "ipython3",
   "version": "3.11.2"
  },
  "orig_nbformat": 4
 },
 "nbformat": 4,
 "nbformat_minor": 2
}
