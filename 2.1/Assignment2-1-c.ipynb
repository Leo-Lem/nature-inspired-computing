{
 "cells": [
  {
   "attachments": {},
   "cell_type": "markdown",
   "metadata": {},
   "source": [
    "# Assignment 2 Part 1 - Multilayer Perceptron"
   ]
  },
  {
   "attachments": {},
   "cell_type": "markdown",
   "metadata": {},
   "source": [
    "## Importing the XOR ANN"
   ]
  },
  {
   "cell_type": "code",
   "execution_count": 2,
   "metadata": {},
   "outputs": [],
   "source": [
    "%run xor.ipynb"
   ]
  },
  {
   "attachments": {},
   "cell_type": "markdown",
   "metadata": {},
   "source": [
    "## Task (c)"
   ]
  },
  {
   "attachments": {},
   "cell_type": "markdown",
   "metadata": {},
   "source": [
    "For worst-performing case in (a), would increasing the number of nodes in the hidden layer improve the accuracy?"
   ]
  },
  {
   "cell_type": "code",
   "execution_count": 4,
   "metadata": {},
   "outputs": [
    {
     "name": "stdout",
     "output_type": "stream",
     "text": [
      "Hidden nodes:  4\n",
      "Training data accuracy: 70.92%\n",
      "Test data accuracy: 72.13%\n",
      "\n",
      "Hidden nodes:  5\n",
      "Training data accuracy: 73.12%\n",
      "Test data accuracy: 72.33%\n",
      "\n",
      "Hidden nodes:  6\n",
      "Training data accuracy: 73.32%\n",
      "Test data accuracy: 71.93%\n",
      "\n",
      "Hidden nodes:  7\n",
      "Training data accuracy: 73.72%\n",
      "Test data accuracy: 73.20%\n",
      "\n",
      "Hidden nodes:  8\n",
      "Training data accuracy: 74.24%\n",
      "Test data accuracy: 72.53%\n",
      "\n",
      "Hidden nodes:  9\n",
      "Training data accuracy: 70.52%\n",
      "Test data accuracy: 73.47%\n",
      "\n",
      "Hidden nodes:  10\n",
      "Training data accuracy: 73.32%\n",
      "Test data accuracy: 70.07%\n",
      "\n"
     ]
    }
   ],
   "source": [
    "for i in range(4, 11):\n",
    "  xor = XOR(num_hidden=i)\n",
    "  print(\"Hidden nodes: \", i)\n",
    "  xor.train(std=0.5, num_epochs=100)\n",
    "  xor.eval(use_plots=False)\n",
    "  print()"
   ]
  },
  {
   "attachments": {},
   "cell_type": "markdown",
   "metadata": {},
   "source": [
    "## Observations"
   ]
  },
  {
   "attachments": {},
   "cell_type": "markdown",
   "metadata": {},
   "source": [
    "\n",
    "Again, the effect of increasing the hidden nodes does not seem to bring a significant or consistent advantage. Both the training and the test data accuracy don't really improve."
   ]
  },
  {
   "attachments": {},
   "cell_type": "markdown",
   "metadata": {},
   "source": [
    "## Conclusion"
   ]
  },
  {
   "attachments": {},
   "cell_type": "markdown",
   "metadata": {},
   "source": [
    "\n",
    "Increasing the number of hidden nodes does not give provide real benefit, either. And making the model more complex has its own associated costs. So I'd opt to stick with 4 hidden nodes."
   ]
  }
 ],
 "metadata": {
  "kernelspec": {
   "display_name": "Python 3",
   "language": "python",
   "name": "python3"
  },
  "language_info": {
   "codemirror_mode": {
    "name": "ipython",
    "version": 3
   },
   "file_extension": ".py",
   "mimetype": "text/x-python",
   "name": "python",
   "nbconvert_exporter": "python",
   "pygments_lexer": "ipython3",
   "version": "3.11.2"
  },
  "orig_nbformat": 4
 },
 "nbformat": 4,
 "nbformat_minor": 2
}
