{
 "cells": [
  {
   "attachments": {},
   "cell_type": "markdown",
   "metadata": {},
   "source": [
    "# Assignment 2 Part 1 - Multilayer Perceptron"
   ]
  },
  {
   "attachments": {},
   "cell_type": "markdown",
   "metadata": {},
   "source": [
    "## Importing the XOR ANN"
   ]
  },
  {
   "cell_type": "code",
   "execution_count": 1,
   "metadata": {},
   "outputs": [],
   "source": [
    "%run xor.ipynb"
   ]
  },
  {
   "attachments": {},
   "cell_type": "markdown",
   "metadata": {},
   "source": [
    "## Task (b)"
   ]
  },
  {
   "attachments": {},
   "cell_type": "markdown",
   "metadata": {},
   "source": [
    "For the worst-performing case in (a), would increasing the number of training epochs improve the accuracy?"
   ]
  },
  {
   "cell_type": "code",
   "execution_count": 12,
   "metadata": {},
   "outputs": [
    {
     "name": "stdout",
     "output_type": "stream",
     "text": [
      "Training epochs:  100\n",
      "Training data accuracy: 71.80%\n",
      "Test data accuracy: 71.13%\n",
      "\n",
      "Training epochs:  150\n",
      "Training data accuracy: 71.12%\n",
      "Test data accuracy: 71.27%\n",
      "\n",
      "Training epochs:  200\n",
      "Training data accuracy: 73.68%\n",
      "Test data accuracy: 71.93%\n",
      "\n",
      "Training epochs:  250\n",
      "Training data accuracy: 73.44%\n",
      "Test data accuracy: 73.93%\n",
      "\n",
      "Training epochs:  300\n",
      "Training data accuracy: 73.96%\n",
      "Test data accuracy: 73.93%\n",
      "\n",
      "Training epochs:  350\n",
      "Training data accuracy: 73.08%\n",
      "Test data accuracy: 71.93%\n",
      "\n",
      "Training epochs:  400\n",
      "Training data accuracy: 73.76%\n",
      "Test data accuracy: 74.47%\n",
      "\n",
      "Training epochs:  450\n",
      "Training data accuracy: 74.36%\n",
      "Test data accuracy: 73.47%\n",
      "\n",
      "Training epochs:  500\n",
      "Training data accuracy: 71.64%\n",
      "Test data accuracy: 72.47%\n",
      "\n"
     ]
    }
   ],
   "source": [
    "for i in range(2, 11):\n",
    "  xor = XOR(num_hidden=4)\n",
    "  print(\"Training epochs: \", i * 50)\n",
    "  xor.train(std=0.5, num_epochs=i * 50)\n",
    "  xor.eval(use_plots=False)\n",
    "  print()"
   ]
  },
  {
   "attachments": {},
   "cell_type": "markdown",
   "metadata": {},
   "source": [
    "## Observations"
   ]
  },
  {
   "attachments": {},
   "cell_type": "markdown",
   "metadata": {},
   "source": [
    "Increasing the number of training epochs does seem to improve the training data and test data accuracy, albeit only by a little. And there is a serious computational cost associated with increasing the training epochs."
   ]
  },
  {
   "attachments": {},
   "cell_type": "markdown",
   "metadata": {},
   "source": [
    "## Conclusion"
   ]
  },
  {
   "attachments": {},
   "cell_type": "markdown",
   "metadata": {},
   "source": [
    "The effect of the training epochs seems very small compared to the computational cost induced, so I would opt for sticking with about 100 training epochs."
   ]
  }
 ],
 "metadata": {
  "kernelspec": {
   "display_name": "Python 3",
   "language": "python",
   "name": "python3"
  },
  "language_info": {
   "codemirror_mode": {
    "name": "ipython",
    "version": 3
   },
   "file_extension": ".py",
   "mimetype": "text/x-python",
   "name": "python",
   "nbconvert_exporter": "python",
   "pygments_lexer": "ipython3",
   "version": "3.11.2"
  },
  "orig_nbformat": 4
 },
 "nbformat": 4,
 "nbformat_minor": 2
}
