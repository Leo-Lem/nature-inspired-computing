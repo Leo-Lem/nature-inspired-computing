{
 "cells": [
  {
   "attachments": {},
   "cell_type": "markdown",
   "metadata": {},
   "source": [
    "# Assignment 2 Part 1 - Multilayer Perceptron"
   ]
  },
  {
   "attachments": {},
   "cell_type": "markdown",
   "metadata": {},
   "source": [
    "## Importing the XOR ANN"
   ]
  },
  {
   "cell_type": "code",
   "execution_count": 78,
   "metadata": {},
   "outputs": [],
   "source": [
    "%run xor.ipynb"
   ]
  },
  {
   "attachments": {},
   "cell_type": "markdown",
   "metadata": {},
   "source": [
    "## Task (a)"
   ]
  },
  {
   "attachments": {},
   "cell_type": "markdown",
   "metadata": {},
   "source": [
    "What is the effect of increasing the value of the standard deviation on the classification of the trained MLP? Try increasing the standard deviation of the noise from 0.1 to 0.5 in 0.1 intervals and report on both the classification accuracies for the training data and the 'unseen' test data."
   ]
  },
  {
   "cell_type": "code",
   "execution_count": 80,
   "metadata": {},
   "outputs": [
    {
     "name": "stdout",
     "output_type": "stream",
     "text": [
      "std:  0.1\n",
      "Training data accuracy: 100.00%\n",
      "Test data accuracy: 100.00%\n",
      "\n",
      "std:  0.2\n",
      "Training data accuracy: 97.16%\n",
      "Test data accuracy: 97.27%\n",
      "\n",
      "std:  0.3\n",
      "Training data accuracy: 87.72%\n",
      "Test data accuracy: 88.27%\n",
      "\n",
      "std:  0.4\n",
      "Training data accuracy: 78.96%\n",
      "Test data accuracy: 78.73%\n",
      "\n",
      "std:  0.5\n",
      "Training data accuracy: 73.48%\n",
      "Test data accuracy: 71.53%\n",
      "\n"
     ]
    }
   ],
   "source": [
    "for i in range(1, 6):\n",
    "  xor = XOR(num_hidden=4)\n",
    "  print(\"std: \", i / 10)\n",
    "  xor.train(std=i / 10, num_epochs=100)\n",
    "  xor.eval(use_plots=False)\n",
    "  print()"
   ]
  },
  {
   "attachments": {},
   "cell_type": "markdown",
   "metadata": {},
   "source": [
    "### Observation"
   ]
  },
  {
   "attachments": {},
   "cell_type": "markdown",
   "metadata": {},
   "source": [
    "Training data prediction accuracy decreases with increasing standard deviation. This is only logical as extreme outliers will not be classified correctly.\n",
    "\n",
    "Test data prediction accuracy also decreases with increasing standard deviation. That is most likely also due to the increased number of outliers."
   ]
  },
  {
   "attachments": {},
   "cell_type": "markdown",
   "metadata": {},
   "source": [
    "## Conclusion"
   ]
  },
  {
   "attachments": {},
   "cell_type": "markdown",
   "metadata": {},
   "source": [
    "The increased standard deviation decreases predictive performance."
   ]
  }
 ],
 "metadata": {
  "kernelspec": {
   "display_name": "Python 3",
   "language": "python",
   "name": "python3"
  },
  "language_info": {
   "codemirror_mode": {
    "name": "ipython",
    "version": 3
   },
   "file_extension": ".py",
   "mimetype": "text/x-python",
   "name": "python",
   "nbconvert_exporter": "python",
   "pygments_lexer": "ipython3",
   "version": "3.11.2"
  },
  "orig_nbformat": 4
 },
 "nbformat": 4,
 "nbformat_minor": 2
}
